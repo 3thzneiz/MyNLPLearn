{
 "cells": [
  {
   "cell_type": "code",
   "execution_count": 47,
   "metadata": {},
   "outputs": [],
   "source": [
    "import pandas as pd\n",
    "import numpy as np\n",
    "full_df = pd.read_csv(open('xxx.csv', 'r'), sep='\\t')"
   ]
  },
  {
   "cell_type": "code",
   "execution_count": 48,
   "metadata": {},
   "outputs": [],
   "source": [
    "full_df = full_df.dropna().reset_index()[full_df.columns[3:]]"
   ]
  },
  {
   "cell_type": "code",
   "execution_count": 49,
   "metadata": {},
   "outputs": [
    {
     "data": {
      "text/plain": [
       "0    9111\n",
       "1     802\n",
       "Name: UNIQUE_IDENTIFIER, dtype: int64"
      ]
     },
     "execution_count": 49,
     "metadata": {},
     "output_type": "execute_result"
    }
   ],
   "source": [
    "full_df.UNIQUE_IDENTIFIER.value_counts()"
   ]
  },
  {
   "cell_type": "code",
   "execution_count": 88,
   "metadata": {},
   "outputs": [
    {
     "name": "stdout",
     "output_type": "stream",
     "text": [
      "Train Index:  [3305 3306 3307 ..., 9910 9911 9912] \n",
      "\n",
      "Test Index:  [   0    1    2 ..., 3302 3303 3304]\n",
      "Random over-sampling:\n",
      "1    6008\n",
      "0    6008\n",
      "Name: UNIQUE_IDENTIFIER, dtype: int64\n"
     ]
    },
    {
     "name": "stderr",
     "output_type": "stream",
     "text": [
      "/Users/3arthzneiz/anaconda3/lib/python3.6/site-packages/ipykernel_launcher.py:31: UserWarning: Boolean Series key will be reindexed to match DataFrame index.\n",
      "/Users/3arthzneiz/anaconda3/lib/python3.6/site-packages/ipykernel_launcher.py:32: UserWarning: Boolean Series key will be reindexed to match DataFrame index.\n"
     ]
    },
    {
     "name": "stdout",
     "output_type": "stream",
     "text": [
      "[[2843  260]\n",
      " [ 153   49]]\n",
      "[[2754  349]\n",
      " [ 136   66]]\n",
      "[[3048   55]\n",
      " [ 187   15]]\n",
      "log\n",
      "             precision    recall  f1-score   support\n",
      "\n",
      "   NEGATIVE       0.95      0.92      0.93      3103\n",
      "   POSITIVE       0.16      0.24      0.19       202\n",
      "\n",
      "avg / total       0.90      0.88      0.89      3305\n",
      "\n",
      "svm\n",
      "             precision    recall  f1-score   support\n",
      "\n",
      "   NEGATIVE       0.95      0.89      0.92      3103\n",
      "   POSITIVE       0.16      0.33      0.21       202\n",
      "\n",
      "avg / total       0.90      0.85      0.88      3305\n",
      "\n",
      "nb\n",
      "             precision    recall  f1-score   support\n",
      "\n",
      "   NEGATIVE       0.94      0.98      0.96      3103\n",
      "   POSITIVE       0.21      0.07      0.11       202\n",
      "\n",
      "avg / total       0.90      0.93      0.91      3305\n",
      "\n",
      "\n",
      "\n",
      "Train Index:  [   0    1    2 ..., 9910 9911 9912] \n",
      "\n",
      "Test Index:  [3305 3306 3307 ..., 6606 6607 6608]\n",
      "Random over-sampling:\n",
      "1    6088\n",
      "0    6088\n",
      "Name: UNIQUE_IDENTIFIER, dtype: int64\n"
     ]
    },
    {
     "name": "stderr",
     "output_type": "stream",
     "text": [
      "/Users/3arthzneiz/anaconda3/lib/python3.6/site-packages/ipykernel_launcher.py:31: UserWarning: Boolean Series key will be reindexed to match DataFrame index.\n",
      "/Users/3arthzneiz/anaconda3/lib/python3.6/site-packages/ipykernel_launcher.py:32: UserWarning: Boolean Series key will be reindexed to match DataFrame index.\n"
     ]
    },
    {
     "name": "stdout",
     "output_type": "stream",
     "text": [
      "[[2617  406]\n",
      " [ 146  135]]\n",
      "[[2639  384]\n",
      " [ 152  129]]\n",
      "[[2828  195]\n",
      " [ 237   44]]\n",
      "log\n",
      "             precision    recall  f1-score   support\n",
      "\n",
      "   NEGATIVE       0.95      0.87      0.90      3023\n",
      "   POSITIVE       0.25      0.48      0.33       281\n",
      "\n",
      "avg / total       0.89      0.83      0.86      3304\n",
      "\n",
      "svm\n",
      "             precision    recall  f1-score   support\n",
      "\n",
      "   NEGATIVE       0.95      0.87      0.91      3023\n",
      "   POSITIVE       0.25      0.46      0.32       281\n",
      "\n",
      "avg / total       0.89      0.84      0.86      3304\n",
      "\n",
      "nb\n",
      "             precision    recall  f1-score   support\n",
      "\n",
      "   NEGATIVE       0.92      0.94      0.93      3023\n",
      "   POSITIVE       0.18      0.16      0.17       281\n",
      "\n",
      "avg / total       0.86      0.87      0.86      3304\n",
      "\n",
      "\n",
      "\n",
      "Train Index:  [   0    1    2 ..., 6606 6607 6608] \n",
      "\n",
      "Test Index:  [6609 6610 6611 ..., 9910 9911 9912]\n",
      "Random over-sampling:\n",
      "1    6126\n",
      "0    6126\n",
      "Name: UNIQUE_IDENTIFIER, dtype: int64\n"
     ]
    },
    {
     "name": "stderr",
     "output_type": "stream",
     "text": [
      "/Users/3arthzneiz/anaconda3/lib/python3.6/site-packages/ipykernel_launcher.py:31: UserWarning: Boolean Series key will be reindexed to match DataFrame index.\n",
      "/Users/3arthzneiz/anaconda3/lib/python3.6/site-packages/ipykernel_launcher.py:32: UserWarning: Boolean Series key will be reindexed to match DataFrame index.\n"
     ]
    },
    {
     "name": "stdout",
     "output_type": "stream",
     "text": [
      "[[2537  448]\n",
      " [  89  230]]\n",
      "[[2585  400]\n",
      " [  90  229]]\n",
      "[[2243  742]\n",
      " [  95  224]]\n",
      "log\n",
      "             precision    recall  f1-score   support\n",
      "\n",
      "   NEGATIVE       0.97      0.85      0.90      2985\n",
      "   POSITIVE       0.34      0.72      0.46       319\n",
      "\n",
      "avg / total       0.91      0.84      0.86      3304\n",
      "\n",
      "svm\n",
      "             precision    recall  f1-score   support\n",
      "\n",
      "   NEGATIVE       0.97      0.87      0.91      2985\n",
      "   POSITIVE       0.36      0.72      0.48       319\n",
      "\n",
      "avg / total       0.91      0.85      0.87      3304\n",
      "\n",
      "nb\n",
      "             precision    recall  f1-score   support\n",
      "\n",
      "   NEGATIVE       0.96      0.75      0.84      2985\n",
      "   POSITIVE       0.23      0.70      0.35       319\n",
      "\n",
      "avg / total       0.89      0.75      0.80      3304\n",
      "\n",
      "\n",
      "\n"
     ]
    }
   ],
   "source": [
    "from sklearn.model_selection import KFold\n",
    "from sklearn.model_selection import train_test_split\n",
    "from sklearn.linear_model import LogisticRegression\n",
    "from sklearn.pipeline import Pipeline\n",
    "from sklearn.metrics import accuracy_score\n",
    "from sklearn.multiclass import OneVsRestClassifier\n",
    "from sklearn.metrics import confusion_matrix\n",
    "from sklearn.metrics import precision_recall_fscore_support\n",
    "from sklearn.metrics import precision_score\n",
    "from sklearn.metrics import recall_score\n",
    "from sklearn.metrics import f1_score\n",
    "from sklearn.metrics import classification_report\n",
    "from sklearn.svm import SVC  \n",
    "from sklearn.naive_bayes import GaussianNB\n",
    "from sklearn.neural_network import MLPClassifier\n",
    "from sklearn import svm\n",
    "\n",
    "test = []\n",
    "train = []\n",
    "cv = KFold(n_splits=3, random_state=42, shuffle=False)\n",
    "for train_index, test_index in cv.split(full_df):\n",
    "\n",
    "    print(\"Train Index: \", train_index, \"\\n\")\n",
    "    print(\"Test Index: \", test_index)\n",
    "    train.append(train_index)\n",
    "    test.append(test_index)\n",
    "    # Class count\n",
    "    count_class_0, count_class_1 = full_df.UNIQUE_IDENTIFIER[train_index].value_counts()\n",
    "\n",
    "    # Divide by class\n",
    "    full_df_0 = full_df.iloc[train_index][full_df['UNIQUE_IDENTIFIER'] == 0]\n",
    "    full_df_1 = full_df.iloc[train_index][full_df['UNIQUE_IDENTIFIER'] == 1]\n",
    "\n",
    "    df_class_1_over = full_df_1.sample(count_class_0, replace=True)\n",
    "    df_train_over = pd.concat([full_df_0, df_class_1_over], axis=0)\n",
    "\n",
    "    print('Random over-sampling:')\n",
    "    print(df_train_over.UNIQUE_IDENTIFIER.value_counts())\n",
    "    \n",
    "    X_train,y_train = df_train_over.text,df_train_over[df_train_over.columns[5:6]]\n",
    "    X_test,y_test = full_df.iloc[test_index].text,full_df.iloc[test_index][full_df.columns[5:6]]\n",
    "\n",
    "    vectorizer = TfidfVectorizer(min_df=0.025,max_df=0.7,  max_features=30000, \n",
    "            strip_accents='unicode', analyzer='word',token_pattern=r'\\w{1,}',\n",
    "            ngram_range=(2, 2), use_idf=1,smooth_idf=1,\n",
    "            stop_words = 'english')\n",
    "\n",
    "    x_train =  vectorizer.fit_transform(X_train)\n",
    "    x_test = vectorizer.transform(X_test)\n",
    "    \n",
    "    log = LogisticRegression()\n",
    "    svm_m = svm.LinearSVC(random_state=12, tol=1e-5)\n",
    "    nb = MultinomialNB()\n",
    "    labels = ['1', '0']\n",
    "    log.fit(x_train, y_train['UNIQUE_IDENTIFIER'])\n",
    "    svm_m.fit(x_train, y_train['UNIQUE_IDENTIFIER'])\n",
    "    nb.fit(x_train, y_train['UNIQUE_IDENTIFIER'])\n",
    "    # calculating test accuracy\n",
    "    prediction_log = log.predict(x_test)\n",
    "    prediction_svm = svm_m.predict(x_test)\n",
    "    prediction_nb = nb.predict(x_test)\n",
    "    \n",
    "    cm_log = confusion_matrix(y_test['UNIQUE_IDENTIFIER'], prediction_log)\n",
    "    print(cm_log)\n",
    "    cm_svm = confusion_matrix(y_test['UNIQUE_IDENTIFIER'], prediction_svm)\n",
    "    print(cm_svm)\n",
    "    cm_nb = confusion_matrix(y_test['UNIQUE_IDENTIFIER'], prediction_nb)\n",
    "    print(cm_nb)\n",
    "\n",
    "    print('log')\n",
    "    print(classification_report(y_test['UNIQUE_IDENTIFIER'], prediction_log, labels=list(set(y_test['UNIQUE_IDENTIFIER'])), target_names=['NEGATIVE', 'POSITIVE']))\n",
    "    print('svm')\n",
    "    print(classification_report(y_test['UNIQUE_IDENTIFIER'], prediction_svm, labels=list(set(y_test['UNIQUE_IDENTIFIER'])), target_names=['NEGATIVE', 'POSITIVE']))\n",
    "    print('nb')\n",
    "    print(classification_report(y_test['UNIQUE_IDENTIFIER'], prediction_nb, labels=list(set(y_test['UNIQUE_IDENTIFIER'])), target_names=['NEGATIVE', 'POSITIVE']))\n",
    "    print(\"\\n\")\n",
    "    "
   ]
  },
  {
   "cell_type": "code",
   "execution_count": null,
   "metadata": {},
   "outputs": [],
   "source": []
  }
 ],
 "metadata": {
  "kernelspec": {
   "display_name": "Python 3",
   "language": "python",
   "name": "python3"
  },
  "language_info": {
   "codemirror_mode": {
    "name": "ipython",
    "version": 3
   },
   "file_extension": ".py",
   "mimetype": "text/x-python",
   "name": "python",
   "nbconvert_exporter": "python",
   "pygments_lexer": "ipython3",
   "version": "3.6.5"
  }
 },
 "nbformat": 4,
 "nbformat_minor": 2
}
