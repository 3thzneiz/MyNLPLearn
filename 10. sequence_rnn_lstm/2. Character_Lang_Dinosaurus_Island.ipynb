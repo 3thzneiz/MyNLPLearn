{
 "cells": [
  {
   "cell_type": "code",
   "execution_count": 1,
   "metadata": {},
   "outputs": [],
   "source": [
    "import numpy as np\n",
    "from utils import *\n",
    "import random\n",
    "import pprint"
   ]
  },
  {
   "cell_type": "code",
   "execution_count": 2,
   "metadata": {},
   "outputs": [
    {
     "data": {
      "text/plain": [
       "'Aachenosaurus\\nAardonyx\\nAbdallahsaurus\\nAbelisaurus\\nAbrictosaurus\\nAbrosaurus\\nAbydosaurus\\nAcanthopholis\\nAchelousaurus\\nAcheroraptor\\nAchillesaurus\\nAchillobator\\nAcristavus\\nAcrocanthosaurus\\nAcrotholus\\nActiosaurus\\nAdamantisaurus\\nAdasaurus\\nAdelolophus\\nAdeopapposaurus\\nAegyptosaurus\\nAeolosaurus\\nAepisaurus\\nAepyornithomimus\\nAerosteon\\nAetonyxAfromimus\\nAfrovenator\\nAgathaumas\\nAggiosaurus\\nAgilisaurus\\nAgnosphitys\\nAgrosaurus\\nAgujaceratops\\nAgustinia\\nAhshislepelta\\nAirakoraptor\\nAjancingenia\\nAjkaceratops\\nAlamosaurus\\nAlaskacephale\\nAlbalophosaurus\\nAlbertaceratops\\nAlbertadromeus\\nAlbertavenator\\nAlbertonykus\\nAlbertosaurus\\nAlbinykus\\nAlbisaurus\\nAlcovasaurus\\nAlectrosaurus\\nAletopelta\\nAlgoasaurus\\nAlioramus\\nAliwalia\\nAllosaurus\\nAlmas\\nAlnashetri\\nAlocodon\\nAltirhinus\\nAltispinax\\nAlvarezsaurus\\nAlwalkeria\\nAlxasaurus\\nAmargasaurus\\nAmargastegos\\nAmargatitanis\\nAmazonsaurus\\nAmmosaurus\\nAmpelosaurus\\nAmphicoelias\\nAmphicoelicaudia\\nAmphisaurus\\nAmtocephale\\nAmtosaurus\\nAmurosaurus\\nAmygdalodon\\nAnabisetia\\nAnasazisaurus\\nAnatosaurus\\nAnatotitan\\nAnchiceratops\\nAnchiornis\\nAnchisaurus\\nAndesaurus\\nAndhrasaurus\\nAngaturama\\nAngloposeidon\\nAngolatitan\\nAngulomastacator\\nAniksosaurus\\nAnimantarx\\nAnkistrodon\\nAnkylosaurus\\nAnodontosaurus\\nAnoplosaurus\\nAnserimimus\\nAntarctopelta\\nAntarctosaurus\\nAntetonitrus\\nAnthodon\\nAntrodemus\\nAnzu\\nAoniraptor\\nAorun\\nApatodon\\nApatoraptor\\nApatosaurus\\nAppalachiosaurus\\nAquilops\\nAragosaurus\\nAralosaurus\\nAraucanoraptor\\nArchaeoceratops\\nArchaeodontosaurus\\nArchaeopteryx\\nArchaeoraptor\\nArchaeornis\\nArchaeornithoides\\nArchaeornithomimus\\nArcovenator\\nArctosaurus\\nArcusaurus\\nArenysaurus\\nArgentinosaurus\\nArgyrosaurus\\nAristosaurus\\nAristosuchus\\nArizonasaurus\\nArkansaurus\\nArkharavia\\nArrhinoceratops\\nArstanosaurus\\nAsiaceratops\\nAsiamericana\\nAsiatosaurus\\nAstrodon\\nAstrodonius\\nAstrodontaurus\\nAstrophocaudia\\nAsylosaurus\\nAtacamatitan\\nAtlantosaurus\\nAtlasaurus\\nAtlascopcosaurus\\nAtrociraptor\\nAtsinganosaurus\\nAublysodon\\nAucasaurus\\nAugustia\\nAugustynolophus\\nAuroraceratops\\nAurornis\\nAustralodocus\\nAustralovenator\\nAustrocheirus\\nAustroposeidon\\nAustroraptor\\nAustrosaurus\\nAvaceratops\\nAvalonia\\nAvalonianus\\nAviatyrannis\\nAvimimus\\nAvisaurus\\nAvipes\\nAzendohsaurus\\nBactrosaurus\\nBagaceratops\\nBagaraatan\\nBahariasaurus\\nBainoceratops\\nBakesaurus\\nBalaur\\nBalochisaurus\\nBambiraptor\\nBanji\\nBaotianmansaurus\\nBarapasaurus\\nBarilium\\nBarosaurus\\nBarrosasaurus\\nBarsboldia\\nBaryonyx\\nBashunosaurus\\nBasutodon\\nBathygnathus\\nBatyrosaurus\\nBaurutitan\\nBayosaurus\\nBecklespinax\\nBeelemodon\\nBeibeilong\\nBeipiaognathus\\nBeipiaosaurus\\nBeishanlong\\nBellusaurus\\nBelodon\\nBerberosaurus\\nBetasuchus\\nBicentenaria\\nBienosaurus\\nBihariosaurus\\nBilbeyhallorum\\nBissektipelta\\nBistahieversor\\nBlancocerosaurus\\nBlasisaurus\\nBlikanasaurus\\nBolong\\nBonapartenykus\\nBonapartesaurus\\nBonatitan\\nBonitasaura\\nBorealopelta\\nBorealosaurus\\nBoreonykus\\nBorogovia\\nBothriospondylus\\nBrachiosaurus\\nBrachyceratops\\nBrachylophosaurus\\nBrachypodosaurus\\nBrachyrophus\\nBrachytaenius\\nBrachytrachelopan\\nBradycneme\\nBrasileosaurus\\nBrasilotitan\\nBravoceratops\\nBreviceratops\\nBrohisaurus\\nBrontomerus\\nBrontoraptor\\nBrontosaurus\\nBruhathkayosaurus\\nBugenasaura\\nBuitreraptor\\nBurianosaurus\\nBuriolestes\\nByranjaffia\\nByronosaurus\\nCaenagnathasia\\nCaenagnathus\\nCalamosaurus\\nCalamospondylus\\nCalamospondylus\\nCallovosaurus\\nCamarasaurus\\nCamarillasaurus\\nCamelotia\\nCamposaurus\\nCamptonotus\\nCamptosaurus\\nCampylodon\\nCampylodoniscus\\nCanardia\\nCapitalsaurus\\nCarcharodontosaurus\\nCardiodon\\nCarnotaurus\\nCaseosaurus\\nCathartesaura\\nCathetosaurus\\nCaudipteryx\\nCaudocoelus\\nCaulodon\\nCedarosaurus\\nCedarpelta\\nCedrorestes\\nCentemodon\\nCentrosaurus\\nCerasinops\\nCeratonykus\\nCeratops\\nCeratosaurus\\nCetiosauriscus\\nCetiosaurus\\nChangchunsaurus\\nChangdusaurus\\nChangyuraptor\\nChaoyangsaurus\\nCharonosaurus\\nChasmosaurus\\nChassternbergia\\nChebsaurus\\nChenanisaurus\\nCheneosaurus\\nChialingosaurus\\nChiayusaurus\\nChienkosaurus\\nChihuahuasaurus\\nChilantaisaurus\\nChilesaurus\\nChindesaurus\\nChingkankousaurus\\nChinshakiangosaurus\\nChirostenotes\\nChoconsaurus\\nChondrosteosaurus\\nChromogisaurus\\nChuandongocoelurus\\nChuanjiesaurus\\nChuanqilong\\nChubutisaurus\\nChungkingosaurus\\nChuxiongosaurus\\nCinizasaurus\\nCionodon\\nCitipati\\nCladeiodon\\nClaorhynchus\\nClaosaurus\\nClarencea\\nClasmodosaurus\\nClepsysaurus\\nCoahuilaceratops\\nCoelophysis\\nCoelosaurus\\nCoeluroides\\nCoelurosauravus\\nCoelurus\\nColepiocephale\\nColoradia\\nColoradisaurus\\nColossosaurus\\nComahuesaurus\\nComanchesaurus\\nCompsognathus\\nCompsosuchus\\nConcavenator\\nConchoraptor\\nCondorraptor\\nCoronosaurus\\nCorythoraptor\\nCorythosaurus\\nCraspedodon\\nCrataeomus\\nCraterosaurus\\nCreosaurus\\nCrichtonpelta\\nCrichtonsaurus\\nCristatusaurus\\nCrosbysaurus\\nCruxicheiros\\nCryolophosaurus\\nCryptodraco\\nCryptoraptor\\nCryptosaurus\\nCryptovolans\\nCumnoria\\nDaanosaurus\\nDacentrurus\\nDachongosaurus\\nDaemonosaurus\\nDahalokely\\nDakosaurus\\nDakotadon\\nDakotaraptor\\nDaliansaurus\\nDamalasaurus\\nDandakosaurus\\nDanubiosaurus\\nDaptosaurus\\nDarwinsaurus\\nDashanpusaurus\\nDaspletosaurus\\nDasygnathoides\\nDasygnathus\\nDatanglong\\nDatonglong\\nDatousaurus\\nDaurosaurus\\nDaxiatitan\\nDeinocheirus\\nDeinodon\\nDeinonychus\\nDelapparentia\\nDeltadromeus\\nDemandasaurus\\nDenversaurus\\nDeuterosaurus\\nDiabloceratops\\nDiamantinasaurus\\nDianchungosaurus\\nDiceratops\\nDiceratusDiclonius\\nDicraeosaurus\\nDidanodonDilong\\nDilophosaurus\\nDiluvicursor\\nDimodosaurus\\nDinheirosaurus\\nDinodocus\\nDinotyrannus\\nDiplodocus\\nDiplotomodon\\nDiracodon\\nDolichosuchus\\nDollodon\\nDomeykosaurus\\nDongbeititan\\nDongyangopelta\\nDongyangosaurus\\nDoratodon\\nDoryphorosaurus\\nDraconyx\\nDracopelta\\nDracoraptor\\nDracorex\\nDracovenator\\nDravidosaurus\\nDreadnoughtus\\nDrinker\\nDromaeosauroides\\nDromaeosaurus\\nDromiceiomimus\\nDromicosaurus\\nDrusilasaura\\nDryosaurus\\nDryptosauroides\\nDryptosaurus\\nDubreuillosaurus\\nDuriatitan\\nDuriavenator\\nDynamosaurus\\nDyoplosaurus\\nDysalotosaurus\\nDysganus\\nDyslocosaurus\\nDystrophaeus\\nDystylosaurus\\nEchinodon\\nEdmarka\\nEdmontonia\\nEdmontosaurus\\nEfraasia\\nEiniosaurus\\nEkrixinatosaurus\\nElachistosuchus\\nElaltitan\\nElaphrosaurus\\nElmisaurus\\nElopteryx\\nElosaurus\\nElrhazosaurus\\nElvisaurus\\nEmausaurus\\nEmbasaurus\\nEnigmosaurus\\nEoabelisaurus\\nEobrontosaurus\\nEocarcharia\\nEoceratops\\nEocursor\\nEodromaeus\\nEohadrosaurus\\nEolambia\\nEomamenchisaurus\\nEoplophysis\\nEoraptor\\nEosinopteryx\\nEotrachodon\\nEotriceratops\\nEotyrannus\\nEousdryosaurus\\nEpachthosaurus\\nEpanterias\\nEphoenosaurus\\nEpicampodon\\nEpichirostenotes\\nEpidendrosaurus\\nEpidexipteryx\\nEquijubus\\nErectopus\\nErketu\\nErliansaurus\\nErlikosaurus\\nEshanosaurus\\nEuacanthus\\nEucamerotus\\nEucentrosaurus\\nEucercosaurus\\nEucnemesaurus\\nEucoelophysis\\nEugongbusaurus\\nEuhelopus\\nEuoplocephalus\\nEupodosaurus\\nEureodon\\nEurolimnornis\\nEuronychodon\\nEuropasaurus\\nEuropatitan\\nEuropelta\\nEuskelosaurus\\nEustreptospondylus\\nFabrosaurus\\nFalcarius\\nFendusaurus\\nFenestrosaurus\\nFerganasaurus\\nFerganastegos\\nFerganocephale\\nForaminacephale\\nFosterovenator\\nFrenguellisaurus\\nFruitadens\\nFukuiraptor\\nFukuisaurus\\nFukuititan\\nFukuivenator\\nFulengia\\nFulgurotherium\\nFusinasus\\nFusuisaurus\\nFutabasaurus\\nFutalognkosaurus\\nGadolosaurus\\nGaleamopus\\nGalesaurus\\nGallimimus\\nGaltonia\\nGalveosaurus\\nGalvesaurus\\nGannansaurus\\nGansutitan\\nGanzhousaurus\\nGargoyleosaurus\\nGarudimimus\\nGasosaurus\\nGasparinisaura\\nGastonia\\nGavinosaurus\\nGeminiraptor\\nGenusaurus\\nGenyodectes\\nGeranosaurus\\nGideonmantellia\\nGiganotosaurus\\nGigantoraptor\\nGigantosaurus\\nGigantosaurus\\nGigantoscelus\\nGigantspinosaurus\\nGilmoreosaurus\\nGinnareemimus\\nGiraffatitan\\nGlacialisaurus\\nGlishades\\nGlyptodontopelta\\nSkeleton\\nGobiceratops\\nGobisaurus\\nGobititan\\nGobivenator\\nGodzillasaurus\\nGojirasaurus\\nGondwanatitan\\nGongbusaurus\\nGongpoquansaurus\\nGongxianosaurus\\nGorgosaurus\\nGoyocephale\\nGraciliceratops\\nGraciliraptor\\nGracilisuchus\\nGravitholus\\nGresslyosaurus\\nGriphornis\\nGriphosaurus\\nGryphoceratops\\nGryponyx\\nGryposaurus\\nGspsaurus\\nGuaibasaurus\\nGualicho\\nGuanlong\\nGwyneddosaurus\\nGyposaurus\\nHadrosauravus\\nHadrosaurus\\nHaestasaurus\\nHagryphus\\nHallopus\\nHalszkaraptor\\nHalticosaurus\\nHanssuesia\\nHanwulosaurus\\nHaplocanthosaurus\\nHaplocanthus\\nHaplocheirus\\nHarpymimus\\nHaya\\nHecatasaurus\\nHeilongjiangosaurus\\nHeishansaurus\\nHelioceratops\\nHelopus\\nHeptasteornis\\nHerbstosaurus\\nHerrerasaurus\\nHesperonychus\\nHesperosaurus\\nHeterodontosaurus\\nHeterosaurus\\nHexing\\nHexinlusaurus\\nHeyuannia\\nHierosaurus\\nHippodraco\\nHironosaurus\\nHisanohamasaurus\\nHistriasaurus\\nHomalocephale\\nHonghesaurus\\nHongshanosaurus\\nHoplitosaurus\\nHoplosaurus\\nHorshamosaurus\\nHortalotarsus\\nHuabeisaurus\\nHualianceratops\\nHuanansaurus\\nHuanghetitan\\nHuangshanlong\\nHuaxiagnathus\\nHuaxiaosaurus\\nHuaxiasaurus\\nHuayangosaurus\\nHudiesaurus\\nHuehuecanauhtlus\\nHulsanpes\\nHungarosaurus\\nHuxleysaurus\\nHylaeosaurus\\nHylosaurusHypacrosaurus\\nHypselorhachis\\nHypselosaurus\\nHypselospinus\\nHypsibema\\nHypsilophodon\\nHypsirhophus\\nhabodcraniosaurus\\nIchthyovenator\\nIgnavusaurus\\nIguanacolossus\\nIguanodon\\nIguanoides\\nSkeleton\\nIguanosaurus\\nIliosuchus\\nIlokelesia\\nIncisivosaurus\\nIndosaurus\\nIndosuchus\\nIngenia\\nInosaurus\\nIrritator\\nIsaberrysaura\\nIsanosaurus\\nIschioceratops\\nIschisaurus\\nIschyrosaurus\\nIsisaurus\\nIssasaurus\\nItemirus\\nIuticosaurus\\nJainosaurus\\nJaklapallisaurus\\nJanenschia\\nJaxartosaurus\\nJeholosaurus\\nJenghizkhan\\nJensenosaurus\\nJeyawati\\nJianchangosaurus\\nJiangjunmiaosaurus\\nJiangjunosaurus\\nJiangshanosaurus\\nJiangxisaurus\\nJianianhualong\\nJinfengopteryx\\nJingshanosaurus\\nJintasaurus\\nJinzhousaurus\\nJiutaisaurus\\nJobaria\\nJubbulpuria\\nJudiceratops\\nJurapteryx\\nJurassosaurus\\nJuratyrant\\nJuravenator\\nKagasaurus\\nKaijiangosaurus\\nKakuru\\nKangnasaurus\\nKarongasaurus\\nKatepensaurus\\nKatsuyamasaurus\\nKayentavenator\\nKazaklambia\\nKelmayisaurus\\nKemkemiaKentrosaurus\\nKentrurosaurus\\nKerberosaurus\\nKentrosaurus\\nKhaan\\nKhetranisaurus\\nKileskus\\nKinnareemimus\\nKitadanisaurus\\nKittysaurus\\nKlamelisaurusKol\\nKoparion\\nKoreaceratops\\nKoreanosaurus\\nKoreanosaurus\\nKoshisaurus\\nKosmoceratops\\nKotasaurus\\nKoutalisaurus\\nKritosaurus\\nKryptops\\nKrzyzanowskisaurus\\nKukufeldia\\nKulceratops\\nKulindadromeus\\nKulindapteryx\\nKunbarrasaurus\\nKundurosaurus\\nKunmingosaurus\\nKuszholia\\nLabocania\\nLabrosaurus\\nLaelaps\\nLaevisuchus\\nLagerpeton\\nLagosuchus\\nLaiyangosaurus\\nLamaceratops\\nLambeosaurus\\nLametasaurus\\nLamplughsaura\\nLanasaurus\\nLancangosaurus\\nLancanjiangosaurus\\nLanzhousaurus\\nLaosaurus\\nLapampasaurus\\nLaplatasaurus\\nLapparentosaurus\\nLaquintasaura\\nLatenivenatrix\\nLatirhinus\\nLeaellynasaura\\nLeinkupal\\nLeipsanosaurus\\nLengosaurus\\nLeonerasaurus\\nLepidocheirosaurus\\nLepidus\\nLeptoceratops\\nLeptorhynchos\\nLeptospondylus\\nLeshansaurus\\nLesothosaurus\\nLessemsaurus\\nLevnesovia\\nLewisuchus\\nLexovisaurus\\nLeyesaurus\\nLiaoceratops\\nLiaoningosaurus\\nLiaoningtitan\\nLiaoningvenator\\nLiassaurus\\nLibycosaurus\\nLigabueino\\nLigabuesaurus\\nLigomasaurus\\nLikhoelesaurus\\nLiliensternus\\nLimaysaurus\\nLimnornis\\nLimnosaurus\\nLimusaurus\\nLinhenykus\\nLinheraptor\\nLinhevenator\\nLirainosaurus\\nLisboasaurusLiubangosaurus\\nLohuecotitan\\nLoncosaurus\\nLongisquama\\nLongosaurus\\nLophorhothon\\nLophostropheus\\nLoricatosaurus\\nLoricosaurus\\nLosillasaurus\\nLourinhanosaurus\\nLourinhasaurus\\nLuanchuanraptor\\nLuanpingosaurus\\nLucianosaurus\\nLucianovenator\\nLufengosaurus\\nLukousaurus\\nLuoyanggia\\nLurdusaurus\\nLusitanosaurus\\nLusotitan\\nLycorhinus\\nLythronax\\nMacelognathus\\nMachairasaurus\\nMachairoceratops\\nMacrodontophion\\nMacrogryphosaurus\\nMacrophalangia\\nMacroscelosaurus\\nMacrurosaurus\\nMadsenius\\nMagnapaulia\\nMagnamanus\\nMagnirostris\\nMagnosaurus\\nMagulodon\\nMagyarosaurus\\nMahakala\\nMaiasaura\\nMajungasaurus\\nMajungatholus\\nMalarguesaurus\\nMalawisaurus\\nMaleevosaurus\\nMaleevus\\nMamenchisaurus\\nManidens\\nMandschurosaurus\\nManospondylus\\nMantellisaurus\\nMantellodon\\nMapusaurus\\nMarasuchus\\nMarisaurus\\nMarmarospondylus\\nMarshosaurus\\nMartharaptor\\nMasiakasaurus\\nMassospondylus\\nMatheronodon\\nMaxakalisaurus\\nMedusaceratops\\nMegacervixosaurus\\nMegadactylus\\nMegadontosaurus\\nMegalosaurus\\nMegapnosaurus\\nMegaraptor\\nMei\\nMelanorosaurus\\nMendozasaurus\\nMercuriceratops\\nMeroktenos\\nMetriacanthosaurus\\nMicrocephale\\nMicroceratops\\nMicroceratus\\nMicrocoelus\\nMicrodontosaurus\\nMicrohadrosaurus\\nMicropachycephalosaurus\\nMicroraptor\\nMicrovenator\\nMierasaurus\\nMifunesaurus\\nMinmi\\nMinotaurasaurus\\nMiragaia\\nMirischia\\nMoabosaurus\\nMochlodon\\nMohammadisaurus\\nMojoceratops\\nMongolosaurus\\nMonkonosaurus\\nMonoclonius\\nMonolophosaurus\\nMononychus\\nMononykus\\nMontanoceratops\\nMorelladon\\nMorinosaurus\\nMorosaurus\\nMorrosaurus\\nMosaiceratops\\nMoshisaurus\\nMtapaiasaurus\\nMtotosaurus\\nMurusraptor\\nMussaurus\\nMuttaburrasaurus\\nMuyelensaurus\\nMymoorapelta\\nNaashoibitosaurus\\nNambalia\\nNankangia\\nNanningosaurus\\nNanosaurus\\nNanotyrannus\\nNanshiungosaurus\\nNanuqsaurus\\nNanyangosaurus\\nNarambuenatitan\\nNasutoceratops\\nNatronasaurus\\nNebulasaurus\\nNectosaurus\\nNedcolbertia\\nNedoceratops\\nNeimongosaurus\\nNemegtia\\nNemegtomaia\\nNemegtosaurus\\nNeosaurus\\nNeosodon\\nNeovenator\\nNeuquenraptor\\nNeuquensaurus\\nNewtonsaurus\\nNgexisaurus\\nNicksaurus\\nNigersaurus\\nNingyuansaurus\\nNiobrarasaurus\\nNipponosaurus\\nNoasaurus\\nNodocephalosaurus\\nNodosaurus\\nNomingia\\nNopcsaspondylus\\nNormanniasaurus\\nNothronychus\\nNotoceratops\\nNotocolossus\\nNotohypsilophodon\\nNqwebasaurus\\nNteregosaurus\\nNurosaurus\\nNuthetes\\nNyasasaurus\\nNyororosaurus\\nOhmdenosaurus\\nOjoceratops\\nOjoraptorsaurus\\nOligosaurus\\nOlorotitan\\nOmeisaurus\\nOmosaurus\\nOnychosaurus\\nOohkotokia\\nOpisthocoelicaudia\\nOplosaurus\\nOrcomimus\\nOrinosaurusOrkoraptor\\nOrnatotholusOrnithodesmus\\nOrnithoides\\nOrnitholestes\\nOrnithomerus\\nOrnithomimoides\\nOrnithomimus\\nOrnithopsis\\nOrnithosuchus\\nOrnithotarsus\\nOrodromeus\\nOrosaurus\\nOrthogoniosaurus\\nOrthomerus\\nOryctodromeus\\nOshanosaurus\\nOsmakasaurus\\nOstafrikasaurus\\nOstromia\\nOthnielia\\nOthnielosaurus\\nOtogosaurus\\nOuranosaurus\\nOverosaurus\\nOviraptor\\nOvoraptor\\nOwenodon\\nOxalaia\\nOzraptor\\nPachycephalosaurus\\nPachyrhinosaurus\\nPachysauriscus\\nPachysaurops\\nPachysaurus\\nPachyspondylus\\nPachysuchus\\nPadillasaurus\\nPakisaurus\\nPalaeoctonus\\nPalaeocursornis\\nPalaeolimnornis\\nPalaeopteryx\\nPalaeosauriscus\\nPalaeosaurus\\nPalaeosaurus\\nPalaeoscincus\\nPaleosaurus\\nPaludititan\\nPaluxysaurus\\nPampadromaeus\\nPamparaptor\\nPanamericansaurus\\nPandoravenator\\nPanguraptor\\nPanoplosaurus\\nPanphagia\\nPantydraco\\nParaiguanodon\\nParalititan\\nParanthodon\\nPararhabdodon\\nParasaurolophus\\nPareiasaurus\\nParksosaurus\\nParonychodon\\nParrosaurus\\nParvicursor\\nPatagonykus\\nPatagosaurus\\nPatagotitan\\nPawpawsaurus\\nPectinodon\\nPedopenna\\nPegomastax\\nPeishansaurus\\nPekinosaurus\\nPelecanimimus\\nPellegrinisaurus\\nPeloroplites\\nPelorosaurus\\nPeltosaurus\\nPenelopognathus\\nPentaceratops\\nPetrobrasaurus\\nPhaedrolosaurus\\nPhilovenator\\nPhuwiangosaurus\\nPhyllodon\\nPiatnitzkysaurus\\nPicrodon\\nPinacosaurus\\nPisanosaurus\\nPitekunsaurus\\nPiveteausaurus\\nPlanicoxa\\nPlateosauravus\\nPlateosaurus\\nPlatyceratops\\nPlesiohadros\\nPleurocoelus\\nPleuropeltus\\nPneumatoarthrus\\nPneumatoraptor\\nPodokesaurus\\nPoekilopleuron\\nPolacanthoides\\nPolacanthus\\nPolyodontosaurus\\nPolyonax\\nPonerosteus\\nPoposaurus\\nParasaurolophus\\nPostosuchus\\nPowellvenator\\nPradhania\\nPrenocephale\\nPrenoceratops\\nPriconodon\\nPriodontognathus\\nProa\\nProbactrosaurus\\nProbrachylophosaurus\\nProceratops\\nProceratosaurus\\nProcerosaurus\\nProcerosaurus\\nProcheneosaurus\\nProcompsognathus\\nProdeinodon\\nProiguanodon\\nPropanoplosaurus\\nProplanicoxa\\nProsaurolophus\\nProtarchaeopteryx\\nProtecovasaurus\\nProtiguanodon\\nProtoavis\\nProtoceratops\\nProtognathosaurus\\nProtognathus\\nProtohadros\\nProtorosaurus\\nProtorosaurus\\nProtrachodon\\nProyandusaurus\\nPseudolagosuchus\\nPsittacosaurus\\nPteropelyx\\nPterospondylus\\nPuertasaurus\\nPukyongosaurus\\nPulanesaura\\nPycnonemosaurus\\nPyroraptor\\nQantassaurus\\nQianzhousaurus\\nQiaowanlong\\nQijianglong\\nQinlingosaurus\\nQingxiusaurus\\nQiupalong\\nQuaesitosaurus\\nQuetecsaurus\\nQuilmesaurus\\nRachitrema\\nRahiolisaurus\\nRahona\\nRahonavis\\nRajasaurus\\nRapator\\nRapetosaurus\\nRaptorex\\nRatchasimasaurus\\nRativates\\nRayososaurus\\nRazanandrongobe\\nRebbachisaurus\\nRegaliceratops\\nRegnosaurus\\nRevueltosaurus\\nRhabdodon\\nRhadinosaurus\\nRhinorex\\nRhodanosaurus\\nRhoetosaurus\\nRhopalodon\\nRiabininohadros\\nRichardoestesia\\nRileya\\nRileyasuchus\\nRinchenia\\nRinconsaurus\\nRioarribasaurus\\nRiodevasaurus\\nRiojasaurus\\nRiojasuchus\\nRocasaurus\\nRoccosaurus\\nRubeosaurus\\nRuehleia\\nRugocaudia\\nRugops\\nRukwatitan\\nRuyangosaurus\\nSacisaurus\\nSahaliyania\\nSaichania\\nSaldamosaurus\\nSalimosaurus\\nSaltasaurus\\nSaltopus\\nSaltriosaurus\\nSanchusaurus\\nSangonghesaurus\\nSanjuansaurus\\nSanpasaurus\\nSantanaraptor\\nSaraikimasoom\\nSarahsaurus\\nSarcolestes\\nSarcosaurus\\nSarmientosaurus\\nSaturnalia\\nSauraechinodon\\nSaurolophus\\nSauroniops\\nSauropelta\\nSaurophaganax\\nSaurophagus\\nSauroplites\\nSauroposeidon\\nSaurornithoides\\nSaurornitholestes\\nSavannasaurus\\nScansoriopteryx\\nScaphonyx\\nScelidosaurus\\nScipionyx\\nSciurumimus\\nScleromochlus\\nScolosaurus\\nScutellosaurus\\nSecernosaurus\\nSefapanosaurus\\nSegisaurus\\nSegnosaurus\\nSeismosaurus\\nSeitaad\\nSelimanosaurus\\nSellacoxa\\nSellosaurus\\nSerendipaceratops\\nSerikornis\\nShamosaurus\\nShanag\\nShanshanosaurus\\nShantungosaurus\\nShanxia\\nShanyangosaurus\\nShaochilong\\nShenzhousaurus\\nShidaisaurus\\nShingopana\\nShixinggia\\nShuangbaisaurus\\nShuangmiaosaurus\\nShunosaurus\\nShuvosaurus\\nShuvuuia\\nSiamodon\\nSiamodracon\\nSiamosaurus\\nSiamotyrannus\\nSiats\\nSibirosaurus\\nSibirotitan\\nSidormimus\\nSigilmassasaurus\\nSilesaurus\\nSiluosaurus\\nSilvisaurus\\nSimilicaudipteryx\\nSinocalliopteryx\\nSinoceratops\\nSinocoelurus\\nSinopelta\\nSinopeltosaurus\\nSinornithoides\\nSinornithomimus\\nSinornithosaurus\\nSinosauropteryx\\nSinosaurus\\nSinotyrannus\\nSinovenator\\nSinraptor\\nSinusonasus\\nSirindhorna\\nSkorpiovenator\\nSmilodon\\nSonidosaurus\\nSonorasaurus\\nSoriatitan\\nSphaerotholus\\nSphenosaurus\\nSphenospondylus\\nSpiclypeus\\nSpinophorosaurus\\nSpinops\\nSpinosaurus\\nSpinostropheus\\nSpinosuchus\\nSpondylosoma\\nSqualodon\\nStaurikosaurus\\nStegoceras\\nStegopelta\\nStegosaurides\\nStegosaurus\\nStenonychosaurus\\nStenopelix\\nStenotholus\\nStephanosaurus\\nStereocephalus\\nSterrholophus\\nStokesosaurus\\nStormbergia\\nStrenusaurus\\nStreptospondylus\\nStruthiomimus\\nStruthiosaurus\\nStygimoloch\\nStygivenator\\nStyracosaurus\\nSuccinodon\\nSuchomimus\\nSuchosaurus\\nSuchoprion\\nSugiyamasaurus\\nSkeleton\\nSulaimanisaurus\\nSupersaurus\\nSuuwassea\\nSuzhousaurus\\nSymphyrophus\\nSyngonosaurus\\nSyntarsus\\nSyrmosaurus\\nSzechuanosaurus\\nTachiraptor\\nTalarurus\\nTalenkauen\\nTalos\\nTambatitanis\\nTangvayosaurus\\nTanius\\nTanycolagreus\\nTanystropheus\\nTanystrosuchus\\nTaohelong\\nTapinocephalus\\nTapuiasaurus\\nTarascosaurus\\nTarbosaurus\\nTarchia\\nTastavinsaurus\\nTatankacephalus\\nTatankaceratops\\nTataouinea\\nTatisaurus\\nTaurovenator\\nTaveirosaurus\\nTawa\\nTawasaurus\\nTazoudasaurus\\nTechnosaurus\\nTecovasaurus\\nTehuelchesaurus\\nTeihivenator\\nTeinurosaurus\\nTeleocrater\\nTelmatosaurus\\nTenantosaurus\\nTenchisaurus\\nTendaguria\\nTengrisaurus\\nTenontosaurus\\nTeratophoneus\\nTeratosaurus\\nTermatosaurus\\nTethyshadros\\nTetragonosaurus\\nTexacephale\\nTexasetes\\nTeyuwasu\\nThecocoelurus\\nThecodontosaurus\\nThecospondylus\\nTheiophytalia\\nTherizinosaurus\\nTherosaurus\\nThescelosaurus\\nThespesius\\nThotobolosaurus\\nTianchisaurus\\nTianchungosaurus\\nTianyulong\\nTianyuraptor\\nTianzhenosaurus\\nTichosteus\\nTienshanosaurus\\nTimimus\\nTimurlengia\\nTitanoceratops\\nTitanosaurus\\nTitanosaurus\\nTochisaurus\\nTomodon\\nTonganosaurus\\nTongtianlong\\nTonouchisaurus\\nTorilion\\nTornieria\\nTorosaurus\\nTorvosaurus\\nTototlmimus\\nTrachodon\\nTraukutitan\\nTrialestes\\nTriassolestes\\nTribelesodon\\nTriceratops\\nTrigonosaurus\\nTrimucrodon\\nTrinisaura\\nTriunfosaurus\\nTroodon\\nTsaagan\\nTsagantegia\\nTsintaosaurus\\nTugulusaurus\\nTuojiangosaurus\\nTuranoceratops\\nTuriasaurus\\nTylocephale\\nTylosteus\\nTyrannosaurus\\nTyrannotitan\\nIllustration\\nUberabatitan\\nUdanoceratops\\nUgrosaurus\\nUgrunaaluk\\nUintasaurus\\nUltrasauros\\nUltrasaurus\\nUltrasaurus\\nUmarsaurus\\nUnaysaurus\\nUnenlagia\\nUnescoceratops\\nUnicerosaurus\\nUnquillosaurus\\nUrbacodon\\nUtahceratops\\nUtahraptor\\nUteodon\\nVagaceratops\\nVahiny\\nValdoraptor\\nValdosaurus\\nVariraptor\\nVelociraptor\\nVectensia\\nVectisaurus\\nVelafrons\\nVelocipes\\nVelociraptor\\nVelocisaurus\\nVenaticosuchus\\nVenenosaurus\\nVeterupristisaurus\\nViavenator\\nVitakridrinda\\nVitakrisaurus\\nVolkheimeria\\nVouivria\\nVulcanodon\\nWadhurstia\\nWakinosaurus\\nWalgettosuchus\\nWalkeria\\nWalkersaurus\\nWangonisaurus\\nWannanosaurus\\nWellnhoferia\\nWendiceratops\\nWiehenvenator\\nWillinakaqe\\nWintonotitan\\nWuerhosaurus\\nWulagasaurus\\nWulatelong\\nWyleyia\\nWyomingraptor\\nXenoceratops\\nXenoposeidon\\nXenotarsosaurus\\nXianshanosaurus\\nXiaosaurus\\nXingxiulong\\nXinjiangovenator\\nXinjiangtitan\\nXiongguanlong\\nXixianykus\\nXixiasaurus\\nXixiposaurus\\nXuanhanosaurus\\nXuanhuaceratops\\nXuanhuasaurus\\nXuwulong\\nYaleosaurus\\nYamaceratops\\nYandusaurus\\nYangchuanosaurus\\nYaverlandia\\nYehuecauhceratops\\nYezosaurus\\nYibinosaurus\\nYimenosaurus\\nYingshanosaurus\\nYinlong\\nYixianosaurus\\nYizhousaurus\\nYongjinglong\\nYuanmouraptor\\nYuanmousaurus\\nYueosaurus\\nYulong\\nYunganglong\\nYunmenglong\\nYunnanosaurus\\nYunxianosaurus\\nYurgovuchia\\nYutyrannus\\nZanabazar\\nZanclodon\\nZapalasaurus\\nZapsalis\\nZaraapelta\\nZatomusZby\\nZephyrosaurus\\nZhanghenglong\\nZhejiangosaurus\\nZhenyuanlong\\nZhongornis\\nZhongjianosaurus\\nZhongyuansaurus\\nZhuchengceratops\\nZhuchengosaurus\\nZhuchengtitan\\nZhuchengtyrannus\\nZiapelta\\nZigongosaurus\\nZizhongosaurus\\nZuniceratops\\nZunityrannus\\nZuolong\\nZuoyunlong\\nZupaysaurus\\nZuul'"
      ]
     },
     "execution_count": 2,
     "metadata": {},
     "output_type": "execute_result"
    }
   ],
   "source": [
    "data = open('dinos.txt', 'r').read()\n",
    "data"
   ]
  },
  {
   "cell_type": "code",
   "execution_count": 3,
   "metadata": {},
   "outputs": [
    {
     "name": "stdout",
     "output_type": "stream",
     "text": [
      "There are 19909 total characters and 27 unique characters in your data.\n"
     ]
    }
   ],
   "source": [
    "data= data.lower()\n",
    "chars = list(set(data))\n",
    "data_size, vocab_size = len(data), len(chars)\n",
    "print('There are %d total characters and %d unique characters in your data.' % (data_size, vocab_size))"
   ]
  },
  {
   "cell_type": "code",
   "execution_count": 6,
   "metadata": {},
   "outputs": [
    {
     "name": "stdout",
     "output_type": "stream",
     "text": [
      "['\\n', 'a', 'b', 'c', 'd', 'e', 'f', 'g', 'h', 'i', 'j', 'k', 'l', 'm', 'n', 'o', 'p', 'q', 'r', 's', 't', 'u', 'v', 'w', 'x', 'y', 'z']\n"
     ]
    }
   ],
   "source": [
    "chars = sorted(chars)\n",
    "print(chars)"
   ]
  },
  {
   "cell_type": "code",
   "execution_count": 7,
   "metadata": {},
   "outputs": [
    {
     "name": "stdout",
     "output_type": "stream",
     "text": [
      "{   0: '\\n',\n",
      "    1: 'a',\n",
      "    2: 'b',\n",
      "    3: 'c',\n",
      "    4: 'd',\n",
      "    5: 'e',\n",
      "    6: 'f',\n",
      "    7: 'g',\n",
      "    8: 'h',\n",
      "    9: 'i',\n",
      "    10: 'j',\n",
      "    11: 'k',\n",
      "    12: 'l',\n",
      "    13: 'm',\n",
      "    14: 'n',\n",
      "    15: 'o',\n",
      "    16: 'p',\n",
      "    17: 'q',\n",
      "    18: 'r',\n",
      "    19: 's',\n",
      "    20: 't',\n",
      "    21: 'u',\n",
      "    22: 'v',\n",
      "    23: 'w',\n",
      "    24: 'x',\n",
      "    25: 'y',\n",
      "    26: 'z'}\n"
     ]
    }
   ],
   "source": [
    "char_to_ix = { ch:i for i,ch in enumerate(chars) }\n",
    "ix_to_char = { i:ch for i,ch in enumerate(chars) }\n",
    "pp = pprint.PrettyPrinter(indent=4)\n",
    "pp.pprint(ix_to_char)"
   ]
  },
  {
   "cell_type": "code",
   "execution_count": 8,
   "metadata": {},
   "outputs": [],
   "source": [
    "def clip(gradients, maxValue):\n",
    "    '''\n",
    "    Clips the gradients' values between minimum and maximum.\n",
    "    \n",
    "    Arguments:\n",
    "    gradients -- a dictionary containing the gradients \"dWaa\", \"dWax\", \"dWya\", \"db\", \"dby\"\n",
    "    maxValue -- everything above this number is set to this number, and everything less than -maxValue is set to -maxValue\n",
    "    \n",
    "    Returns: \n",
    "    gradients -- a dictionary with the clipped gradients.\n",
    "    '''\n",
    "    \n",
    "    dWaa, dWax, dWya, db, dby = gradients['dWaa'], gradients['dWax'], gradients['dWya'], gradients['db'], gradients['dby']\n",
    "   \n",
    "    ### START CODE HERE ###\n",
    "    # clip to mitigate exploding gradients, loop over [dWax, dWaa, dWya, db, dby]. (≈2 lines)\n",
    "    for gradient in [dWax, dWaa, dWya, db, dby]:\n",
    "        np.clip(gradient, -maxValue, maxValue, out=gradient)\n",
    "    ### END CODE HERE ###\n",
    "    \n",
    "    gradients = {\"dWaa\": dWaa, \"dWax\": dWax, \"dWya\": dWya, \"db\": db, \"dby\": dby}\n",
    "    \n",
    "    return gradients"
   ]
  },
  {
   "cell_type": "code",
   "execution_count": 9,
   "metadata": {},
   "outputs": [
    {
     "name": "stdout",
     "output_type": "stream",
     "text": [
      "gradients[\"dWaa\"][1][2] = 10.0\n",
      "gradients[\"dWax\"][3][1] = -10.0\n",
      "gradients[\"dWya\"][1][2] = 0.2971381536101662\n",
      "gradients[\"db\"][4] = [10.]\n",
      "gradients[\"dby\"][1] = [8.45833407]\n"
     ]
    }
   ],
   "source": [
    "np.random.seed(3)\n",
    "dWax = np.random.randn(5,3)*10\n",
    "dWaa = np.random.randn(5,5)*10\n",
    "dWya = np.random.randn(2,5)*10\n",
    "db = np.random.randn(5,1)*10\n",
    "dby = np.random.randn(2,1)*10\n",
    "gradients = {\"dWax\": dWax, \"dWaa\": dWaa, \"dWya\": dWya, \"db\": db, \"dby\": dby}\n",
    "gradients = clip(gradients, 10)\n",
    "print(\"gradients[\\\"dWaa\\\"][1][2] =\", gradients[\"dWaa\"][1][2])\n",
    "print(\"gradients[\\\"dWax\\\"][3][1] =\", gradients[\"dWax\"][3][1])\n",
    "print(\"gradients[\\\"dWya\\\"][1][2] =\", gradients[\"dWya\"][1][2])\n",
    "print(\"gradients[\\\"db\\\"][4] =\", gradients[\"db\"][4])\n",
    "print(\"gradients[\\\"dby\\\"][1] =\", gradients[\"dby\"][1])"
   ]
  },
  {
   "cell_type": "code",
   "execution_count": null,
   "metadata": {},
   "outputs": [],
   "source": [
    "\n"
   ]
  }
 ],
 "metadata": {
  "kernelspec": {
   "display_name": "Python 3",
   "language": "python",
   "name": "python3"
  },
  "language_info": {
   "codemirror_mode": {
    "name": "ipython",
    "version": 3
   },
   "file_extension": ".py",
   "mimetype": "text/x-python",
   "name": "python",
   "nbconvert_exporter": "python",
   "pygments_lexer": "ipython3",
   "version": "3.6.5"
  }
 },
 "nbformat": 4,
 "nbformat_minor": 2
}
