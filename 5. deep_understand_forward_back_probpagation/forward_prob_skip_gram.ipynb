{
 "cells": [
  {
   "cell_type": "code",
   "execution_count": 2,
   "metadata": {},
   "outputs": [],
   "source": [
    "import numpy as np\n",
    "\n",
    "input_text = [\"duct\", \"tape\", \"work\", \"anywher\", \"magic\", \"worship\"]"
   ]
  },
  {
   "cell_type": "code",
   "execution_count": 5,
   "metadata": {},
   "outputs": [
    {
     "name": "stdout",
     "output_type": "stream",
     "text": [
      "[[0.37454012 0.95071431 0.73199394]\n",
      " [0.59865848 0.15601864 0.15599452]\n",
      " [0.05808361 0.86617615 0.60111501]\n",
      " [0.70807258 0.02058449 0.96990985]\n",
      " [0.83244264 0.21233911 0.18182497]\n",
      " [0.18340451 0.30424224 0.52475643]]\n"
     ]
    }
   ],
   "source": [
    "np.random.seed(42)\n",
    "# one-hotencoding\n",
    "input_array_tape = np.array([0,1,0,0,0,0]) #\"tape\"\n",
    "\n",
    "# weight input 6*3 metric\n",
    "input_weight_matrix = np.random.random_sample((6,3))\n",
    "print(input_weight_matrix)"
   ]
  },
  {
   "cell_type": "code",
   "execution_count": 6,
   "metadata": {},
   "outputs": [
    {
     "name": "stdout",
     "output_type": "stream",
     "text": [
      "[0.59865848 0.15601864 0.15599452]\n"
     ]
    }
   ],
   "source": [
    "# hidden layer\n",
    "projection = np.dot(input_array_tape,input_weight_matrix)\n",
    "print(projection)"
   ]
  },
  {
   "cell_type": "code",
   "execution_count": 7,
   "metadata": {},
   "outputs": [
    {
     "name": "stdout",
     "output_type": "stream",
     "text": [
      "[[0.43194502 0.29122914 0.61185289 0.13949386 0.29214465 0.36636184]\n",
      " [0.45606998 0.78517596 0.19967378 0.51423444 0.59241457 0.04645041]\n",
      " [0.60754485 0.17052412 0.06505159 0.94888554 0.96563203 0.80839735]]\n"
     ]
    }
   ],
   "source": [
    "# assume that window size = 5\n",
    "# so this will random weight for w(t-2) behind the input 2 word\n",
    "# weight output 3*6 \n",
    "output_weight_matrix = np.random.random_sample((3,6))\n",
    "print(output_weight_matrix)"
   ]
  },
  {
   "cell_type": "code",
   "execution_count": 8,
   "metadata": {},
   "outputs": [
    {
     "name": "stdout",
     "output_type": "stream",
     "text": [
      "[0.42451664 0.32344971 0.40759145 0.31176029 0.41795589 0.35267831]\n"
     ]
    }
   ],
   "source": [
    "# hidden layer mul with output weight\n",
    "output_array_for_input_tape_and_orange_output_context = np.dot(projection, output_weight_matrix)\n",
    "print(output_array_for_input_tape_and_orange_output_context)"
   ]
  },
  {
   "cell_type": "code",
   "execution_count": 10,
   "metadata": {},
   "outputs": [
    {
     "name": "stdout",
     "output_type": "stream",
     "text": [
      "[('duct', 0.42451663675598933), ('tape', 0.3234497105099373), ('work', 0.4075914505752598), ('anywher', 0.3117602853605092), ('magic', 0.41795589389125587), ('worship', 0.35267831257488347)]\n"
     ]
    }
   ],
   "source": [
    "print(list(zip(input_text, output_array_for_input_tape_and_orange_output_context)))"
   ]
  },
  {
   "cell_type": "code",
   "execution_count": null,
   "metadata": {},
   "outputs": [],
   "source": [
    "# pass to softmax ...."
   ]
  }
 ],
 "metadata": {
  "kernelspec": {
   "display_name": "Python 3",
   "language": "python",
   "name": "python3"
  },
  "language_info": {
   "codemirror_mode": {
    "name": "ipython",
    "version": 3
   },
   "file_extension": ".py",
   "mimetype": "text/x-python",
   "name": "python",
   "nbconvert_exporter": "python",
   "pygments_lexer": "ipython3",
   "version": "3.6.5"
  }
 },
 "nbformat": 4,
 "nbformat_minor": 2
}
