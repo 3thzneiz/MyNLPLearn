{
 "cells": [
  {
   "cell_type": "code",
   "execution_count": 4,
   "metadata": {},
   "outputs": [
    {
     "name": "stdout",
     "output_type": "stream",
     "text": [
      "final theta = [ 0.0118  1.4984]\n",
      "final cost = 56.7869030526\n"
     ]
    }
   ],
   "source": [
    "import numpy as np\n",
    "\n",
    "def compute_grad(X, y, theta):\n",
    "    m = len(X)\n",
    "    theta_grad = np.array([0, 0])\n",
    "    for i in range(m):\n",
    "        theta_grad[0] += (1./(m))*((theta[0] + theta[1]*X[i]) - y[i])\n",
    "        theta_grad[1] += (1./(m))*((theta[0] + theta[1]*X[i]) - y[i])*X[i]\n",
    "    return theta_grad\n",
    "\n",
    "def compute_cost(X, y, theta):\n",
    "    m = len(X)\n",
    "    J = 0\n",
    "    for i in range(m):\n",
    "        J += (1./(2*m))*((theta[0] + theta[1]*X[i]) - y[i])**2\n",
    "    return J\n",
    "\n",
    "data = np.genfromtxt(\"https://raw.githubusercontent.com/mattnedrich/GradientDescentExample/master/data.csv\", delimiter=\",\") # read csv file (don't forget to download!)\n",
    "X = data[:,0]\n",
    "y = data[:,1]\n",
    "J = [] # history of cost\n",
    "theta = np.array([0, -1]) # intial theta\n",
    "n_iter = 3000\n",
    "for i in range(n_iter):\n",
    "    theta_grad = compute_grad(X, y, theta)\n",
    "    theta = theta - 0.0001*theta_grad\n",
    "    J.append(compute_cost(X, y, theta))\n",
    "print ('final theta = %s' % theta)\n",
    "print ('final cost = %s' % J[-1])\n",
    "# --------------------------------\n",
    "# final theta = [ 0.0118  1.4984]\n",
    "# final cost = 56.7869030526\n"
   ]
  },
  {
   "cell_type": "code",
   "execution_count": null,
   "metadata": {},
   "outputs": [],
   "source": []
  }
 ],
 "metadata": {
  "kernelspec": {
   "display_name": "Python 3",
   "language": "python",
   "name": "python3"
  },
  "language_info": {
   "codemirror_mode": {
    "name": "ipython",
    "version": 3
   },
   "file_extension": ".py",
   "mimetype": "text/x-python",
   "name": "python",
   "nbconvert_exporter": "python",
   "pygments_lexer": "ipython3",
   "version": "3.6.5"
  }
 },
 "nbformat": 4,
 "nbformat_minor": 2
}
